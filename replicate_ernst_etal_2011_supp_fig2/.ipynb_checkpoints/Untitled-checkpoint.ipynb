{
 "cells": [
  {
   "cell_type": "code",
   "execution_count": 1,
   "metadata": {},
   "outputs": [],
   "source": [
    "import pandas as pd\n",
    "import numpy as np"
   ]
  },
  {
   "cell_type": "code",
   "execution_count": null,
   "metadata": {},
   "outputs": [],
   "source": [
    "meta_fn = '/Users/vuthaiha/Desktop/window_hoff/data/roadmap_epigenome/roadmap_celltype_metadata.csv'\n",
    "meta_df = pd.read_csv(meta_fn, sep = ',', header = 0)\n",
    "meta_df = meta_df[[u'Epigenome ID (EID)', u'GROUP']]\n",
    "meta_df = meta_df.rename(columns = {'Epigenome ID (EID)' : 'ct_id'})"
   ]
  },
  {
   "cell_type": "code",
   "execution_count": null,
   "metadata": {},
   "outputs": [],
   "source": [
    "fn = \"/Users/vuthaiha/Desktop/window_hoff/ROADMAP_aligned_reads/chromHMM_model/model_100_state/replicate_supp_fig2_ernst_etal_2011/one_avg_exp_per_state/bp_uniform_avg_exp.txt\"\n",
    "df = pd.read_csv(fn, sep = '\\t', header = 0)\n",
    "(num_state, num_ct) = df.shape\n",
    "df = df.transpose() # rows: cell types and one row called 'state'\n",
    "                    # columns: states\n",
    "df.columns = df.loc['state',:] # columns names are now states\n",
    "df = df.drop(index = 'state') # drop the line called index because we already have that as the column names\n",
    "df.reset_index(inplace = True) # now one of the column is the cell type, which used to be the index of the table\n",
    "df = df.rename(columns = {'index' : \"ct\"}) # the column name of column that contains information of cell type is now called 'ct'\n",
    "df = pd.merge(df, meta_df, how = 'left', left_on = 'ct', right_on = 'ct_id')\n",
    "df = df.dropna() # drop rows where the cell group is NA\n",
    "# df columns: ct, E1, E2, ..., E100, ct_id, GROUP\n",
    "df[df.columns[1:-2]] = (df[df.columns[1:-2]]).apply(pd.to_numeric) # get all the numeric data to be of type numeric\n",
    "gdf = df.groupby('GROUP')\n",
    "exp_df = gdf[map(lambda x: 'E' + str(x+1), range(num_state))]\n",
    "mean_exp_df = exp_df.mean() # mean of expressions in states(columns), and cell group (rows)\n",
    "mean_exp_df = mean_exp_df.apply(lambda x: x) # convert grouby back to a data frame"
   ]
  }
 ],
 "metadata": {
  "kernelspec": {
   "display_name": "Python 2",
   "language": "python",
   "name": "python2"
  },
  "language_info": {
   "codemirror_mode": {
    "name": "ipython",
    "version": 2
   },
   "file_extension": ".py",
   "mimetype": "text/x-python",
   "name": "python",
   "nbconvert_exporter": "python",
   "pygments_lexer": "ipython2",
   "version": "2.7.15"
  }
 },
 "nbformat": 4,
 "nbformat_minor": 2
}
